


pip install -r requirements.txt


from colorama import init as colorama_init
from colorama import Fore
from colorama import Style

def test_function(name, test_data, function_ref):
    try:
        count = 0

        for test_case in test_data:
            if len(test_case) == 2:
                result = function_ref(test_case[0])
            elif len(test_case) == 3:
                result = function_ref(test_case[0], test_case[1])
            elif len(test_case) == 4:
                result = function_ref(test_case[0], test_case[1], test_case[2])

            error_message = f"{name}("
            for i in range(len(test_case) - 2):
                error_message += f"{test_case[i]}, "
            error_message += f"{test_case[-2]}) should be {test_case[-1]}, got: {result}"

            assert result == test_case[-1], error_message
            count += 1

        print(f"{Fore.GREEN}---------- ALL TESTS PASSED ----------{Style.RESET_ALL}")
    except AssertionError as e:
        print(f"{Fore.RED}---------- ALL TESTS NOT PASSED ----------{Style.RESET_ALL}")
        print(f"{Fore.RED}{count} of {len(test_data)} tests passed{Style.RESET_ALL}")
        print(f"{Fore.RED}failed at:")
        print(e)








def is_fibonacci(a):
  pass

# -------- Test cases --------
test_cases = [[-1, False], [0, False], [1, True], [2, True], [3, True], [4, False], [5, True], [6, False], [7, False], [8, True], [144, True], [514229, True], [196418, True], [196417, False], [433494437, True]]
test_function("is_fibonacci", test_cases, is_fibonacci)






def is_prime(a):
  pass

# -------- Test cases --------
# ---- Note this test could take a while to run ----
test_cases = [[1, False], [2, True], [3, True], [4, False], [5, True], [0 , False], [27581, True], [48437, True], [77101, True], [100001, False], [1001977, True]]
test_function("is_prime", test_cases, is_prime)





def special_pythagorean_triplet():
    pass


# -------- Test cases --------
def test_special_pythagorean_triplet():
    abc = special_pythagorean_triplet()
    a = abc[0]
    b = abc[1]
    c = abc[2]

    assert a < b < c, f"{Fore.RED}Expected a < b < c, got a: {a}, b: {b}, c: {c}"
    assert a**2 + b**2 == c**2, f"{Fore.RED}a^2 + b^2 does not equal c^2"
    assert a + b + c == 1000, f"{Fore.RED}a + b + c does not equal 1000"
    print(f"{Fore.GREEN}---------- ALL TESTS PASSED ----------{Style.RESET_ALL}")
    print(f"{Fore.GREEN}a: {a}, b: {b}, c: {c}{Style.RESET_ALL}")

try:
    test_special_pythagorean_triplet()
except AssertionError as e:
    print(e)
    print(f"{Fore.RED}---------- ALL TESTS NOT PASSED ----------{Style.RESET_ALL}")






def binary_search(search_arr, search_term):
    pass

# -------- Test cases --------
test_cases = [[[1, 2, 3, 4, 5, 6, 7, 8, 9, 10], 1, 1], [[1, 2, 3, 4, 5, 6, 7, 8, 9, 10], 10, 9], [[1, 2, 3, 4, 5, 6, 7, 8, 9, 10], 5, 4], [[1, 2, 3, 4, 5, 6, 7, 8, 9, 10], 11, 0], [[1, 2, 3, 4, 5, 6, 7, 8, 9, 10], 0, 0], [[1, 2, 3, 4, 5, 6, 7, 8, 9, 9, 10], 9, 2]]
test_function("binary_search", test_cases, binary_search)





def selection_sort(arr):
    pass

# -------- Test cases --------
test_cases = [[[1, 2, 3, 4, 5, 6, 7, 8, 9, 10], [1, 2, 3, 4, 5, 6, 7, 8, 9, 10]], [[10, 9, 8, 7, 6, 5, 4, 3, 2, 1], [1, 2, 3, 4, 5, 6, 7, 8, 9, 10]], [[5, 3, 6, 2, 10, 1, 7, 9, 8, 4], [1, 2, 3, 4, 5, 6, 7, 8, 9, 10]], [[1, 1, 1, 1, 1, 1, 1, 1, 1, 1], [1, 1, 1, 1, 1, 1, 1, 1, 1, 1]], [[1, 2, 3, 4, 5, 6, 7, 8, 9, 10, 1], [1, 1, 2, 3, 4, 5, 6, 7, 8, 9, 10]], [[],[]]]
test_function("selection_sort", test_cases, selection_sort)
