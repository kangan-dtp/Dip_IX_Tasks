{
 "cells": [
  {
   "cell_type": "markdown",
   "id": "9fbf2919",
   "metadata": {},
   "source": [
    "### Run the below before anything else"
   ]
  },
  {
   "cell_type": "code",
   "execution_count": null,
   "id": "f7ce975e",
   "metadata": {},
   "outputs": [],
   "source": [
    "pip install -r requirements.txt"
   ]
  },
  {
   "cell_type": "code",
   "execution_count": null,
   "id": "dc4a1a14",
   "metadata": {},
   "outputs": [],
   "source": [
    "from colorama import init as colorama_init\n",
    "from colorama import Fore\n",
    "from colorama import Style\n",
    "\n",
    "def test_function(name, test_data, function_ref):\n",
    "    try:\n",
    "        count = 0\n",
    "\n",
    "        for test_case in test_data:\n",
    "            if len(test_case) == 2:\n",
    "                result = function_ref(test_case[0])\n",
    "            elif len(test_case) == 3:\n",
    "                result = function_ref(test_case[0], test_case[1])\n",
    "            elif len(test_case) == 4:\n",
    "                result = function_ref(test_case[0], test_case[1], test_case[2])\n",
    "\n",
    "            error_message = f\"{name}(\"\n",
    "            for i in range(len(test_case) - 2):\n",
    "                error_message += f\"{test_case[i]}, \"\n",
    "            error_message += f\"{test_case[-2]}) should be {test_case[-1]}, got: {result}\"\n",
    "\n",
    "            assert result == test_case[-1], error_message\n",
    "            count += 1\n",
    "\n",
    "        print(f\"{Fore.GREEN}---------- ALL TESTS PASSED ----------{Style.RESET_ALL}\")\n",
    "    except AssertionError as e:\n",
    "        print(f\"{Fore.RED}---------- ALL TESTS NOT PASSED ----------{Style.RESET_ALL}\")\n",
    "        print(f\"{Fore.RED}{count} of {len(test_data)} tests passed{Style.RESET_ALL}\")\n",
    "        print(f\"{Fore.RED}failed at:\")\n",
    "        print(e)"
   ]
  },
  {
   "cell_type": "markdown",
   "id": "028f72cc-c041-4331-b223-acef7039e754",
   "metadata": {},
   "source": [
    "# 1 Algorithm Tasks"
   ]
  },
  {
   "cell_type": "markdown",
   "id": "2b2cd22a-a110-4a54-8e34-d30504d7f3d9",
   "metadata": {},
   "source": [
    "## Task 1:  Fibonacci numbers\n",
    "Complete the function is_fibonacci, which takes a parameter of a number and returns true or false if it is part of the Fibonacci sequence.  Number passed in must be greater than 0, otherwise return false.\n"
   ]
  },
  {
   "cell_type": "code",
   "execution_count": null,
   "id": "05cb0a12-6ced-4280-b1d4-968e32ba82f1",
   "metadata": {
    "scrolled": true
   },
   "outputs": [],
   "source": [
    "def is_fibonacci(a):\n",
    "  pass\n",
    "\n",
    "# -------- Test cases --------\n",
    "test_cases = [[-1, False], [0, False], [1, True], [2, True], [3, True], [4, False], [5, True], [6, False], [7, False], [8, True], [144, True], [514229, True], [196418, True], [196417, False], [433494437, True]]\n",
    "test_function(\"is_fibonacci\", test_cases, is_fibonacci)\n"
   ]
  },
  {
   "cell_type": "markdown",
   "id": "83148339",
   "metadata": {},
   "source": [
    "## Task 2:  Prime numbers\n",
    "Complete the function is_prime, which takes a parameter and returns True if the number is a prime number.  Argument must be greater than -1.  0 and 1 are not Prime.  Argument should not be greater than 500,000,000\n"
   ]
  },
  {
   "cell_type": "code",
   "execution_count": null,
   "id": "7ab2d575",
   "metadata": {},
   "outputs": [],
   "source": [
    "def is_prime(a):\n",
    "  pass\n",
    "\n",
    "# -------- Test cases --------\n",
    "# ---- Note this test could take a while to run ----\n",
    "test_cases = [[1, False], [2, True], [3, True], [4, False], [5, True], [0 , False], [27581, True], [48437, True], [77101, True], [100001, False], [1001977, True]]\n",
    "test_function(\"is_prime\", test_cases, is_prime)"
   ]
  },
  {
   "cell_type": "markdown",
   "id": "2f4fd21a",
   "metadata": {},
   "source": [
    "# Task 3: Special Pythagorean Triplet\n",
    "A Pythagorean triplet is a set of three natural numbers, a < b < c, for which,\n",
    "\n",
    "$a^{2}$ + $b^{2}$ = $c^{2}$\n",
    "\n",
    "For example, \n",
    "$3^{2}$ + $4^{2}$ = 9 + 16 = 25 = $5^{2}$\n",
    "\n",
    "There exists exactly one Pythagorean triplet for which \n",
    "a + b + c = 1000\n",
    "\n",
    "Return a, b, c in an array\n",
    "\n",
    "*note:* taken from https://projecteuler.net/problem=9"
   ]
  },
  {
   "cell_type": "code",
   "execution_count": null,
   "id": "f7b2f218",
   "metadata": {},
   "outputs": [],
   "source": [
    "def special_pythagorean_triplet():\n",
    "    pass\n",
    "\n",
    "\n",
    "# -------- Test cases --------\n",
    "def test_special_pythagorean_triplet():\n",
    "    abc = special_pythagorean_triplet()\n",
    "    a = abc[0]\n",
    "    b = abc[1]\n",
    "    c = abc[2]\n",
    "\n",
    "    assert a < b < c, f\"{Fore.RED}Expected a < b < c, got a: {a}, b: {b}, c: {c}\"\n",
    "    assert a**2 + b**2 == c**2, f\"{Fore.RED}a^2 + b^2 does not equal c^2\"\n",
    "    assert a + b + c == 1000, f\"{Fore.RED}a + b + c does not equal 1000\"\n",
    "    print(f\"{Fore.GREEN}---------- ALL TESTS PASSED ----------{Style.RESET_ALL}\")\n",
    "    print(f\"{Fore.GREEN}a: {a}, b: {b}, c: {c}{Style.RESET_ALL}\")\n",
    "\n",
    "try:\n",
    "    test_special_pythagorean_triplet()\n",
    "except AssertionError as e:\n",
    "    print(e)\n",
    "    print(f\"{Fore.RED}---------- ALL TESTS NOT PASSED ----------{Style.RESET_ALL}\")\n"
   ]
  },
  {
   "cell_type": "markdown",
   "id": "0ecf1ac5-6485-4245-9f29-89f0c4ecbaff",
   "metadata": {},
   "source": [
    "# Task 4:  Binary Search Task\n",
    "Complete the function binary_search(search_arr, search_term)\n",
    "The function will return the number of times that search_term occurs in search_arr"
   ]
  },
  {
   "cell_type": "code",
   "execution_count": null,
   "id": "3eaf0d2e-21de-4e42-94f4-ae59c89b0c72",
   "metadata": {},
   "outputs": [],
   "source": [
    "def binary_search(search_arr, search_term):\n",
    "    pass\n",
    "\n",
    "# -------- Test cases --------\n",
    "test_cases = [[[1, 2, 3, 4, 5, 6, 7, 8, 9, 10], 1, 1], [[1, 2, 3, 4, 5, 6, 7, 8, 9, 10], 10, 9], [[1, 2, 3, 4, 5, 6, 7, 8, 9, 10], 5, 4], [[1, 2, 3, 4, 5, 6, 7, 8, 9, 10], 11, 0], [[1, 2, 3, 4, 5, 6, 7, 8, 9, 10], 0, 0], [[1, 2, 3, 4, 5, 6, 7, 8, 9, 9, 10], 9, 2]]\n",
    "test_function(\"binary_search\", test_cases, binary_search)"
   ]
  },
  {
   "cell_type": "markdown",
   "id": "32a7eaac",
   "metadata": {},
   "source": [
    "# Task 5: Selection Sort\n",
    "Complete the function selection_sort(unsorted).  The function returns an ascendingly from an unsorted array (unsorted)"
   ]
  },
  {
   "cell_type": "code",
   "execution_count": null,
   "id": "8da8946b",
   "metadata": {},
   "outputs": [],
   "source": [
    "def selection_sort(arr):\n",
    "    pass\n",
    "\n",
    "# -------- Test cases --------\n",
    "test_cases = [[[1, 2, 3, 4, 5, 6, 7, 8, 9, 10], [1, 2, 3, 4, 5, 6, 7, 8, 9, 10]], [[10, 9, 8, 7, 6, 5, 4, 3, 2, 1], [1, 2, 3, 4, 5, 6, 7, 8, 9, 10]], [[5, 3, 6, 2, 10, 1, 7, 9, 8, 4], [1, 2, 3, 4, 5, 6, 7, 8, 9, 10]], [[1, 1, 1, 1, 1, 1, 1, 1, 1, 1], [1, 1, 1, 1, 1, 1, 1, 1, 1, 1]], [[1, 2, 3, 4, 5, 6, 7, 8, 9, 10, 1], [1, 1, 2, 3, 4, 5, 6, 7, 8, 9, 10]], [[],[]]]\n",
    "test_function(\"selection_sort\", test_cases, selection_sort)"
   ]
  }
 ],
 "metadata": {
  "kernelspec": {
   "display_name": "Python 3 (ipykernel)",
   "language": "python",
   "name": "python3"
  },
  "language_info": {
   "codemirror_mode": {
    "name": "ipython",
    "version": 3
   },
   "file_extension": ".py",
   "mimetype": "text/x-python",
   "name": "python",
   "nbconvert_exporter": "python",
   "pygments_lexer": "ipython3",
   "version": "3.12.4"
  }
 },
 "nbformat": 4,
 "nbformat_minor": 5
}
